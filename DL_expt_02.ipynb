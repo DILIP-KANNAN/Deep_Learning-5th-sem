{
  "nbformat": 4,
  "nbformat_minor": 0,
  "metadata": {
    "colab": {
      "provenance": []
    },
    "kernelspec": {
      "name": "python3",
      "display_name": "Python 3"
    },
    "language_info": {
      "name": "python"
    }
  },
  "cells": [
    {
      "cell_type": "code",
      "source": [
        "import tensorflow as tf\n",
        "from sklearn.datasets import load_iris\n",
        "from sklearn.model_selection import train_test_split\n",
        "from sklearn.preprocessing import StandardScaler\n",
        "from tensorflow.keras.utils import to_categorical"
      ],
      "metadata": {
        "id": "c7oKCG31tzma"
      },
      "execution_count": null,
      "outputs": []
    },
    {
      "cell_type": "code",
      "source": [
        "# Load Iris dataset\n",
        "iris = load_iris()\n",
        "X = iris.data        # Shape (150, 4)\n",
        "y = iris.target      # Shape (150,)\n",
        "\n",
        "# One-hot encode target labels\n",
        "y = to_categorical(y, num_classes=3)\n",
        "\n",
        "# Train-test split\n",
        "X_train, X_test, y_train, y_test = train_test_split(X, y, test_size=0.2, random_state=42)\n",
        "\n",
        "# Standardize features\n",
        "scaler = StandardScaler()\n",
        "X_train = scaler.fit_transform(X_train)\n",
        "X_test = scaler.transform(X_test)"
      ],
      "metadata": {
        "id": "RKakKWvkt0Yh"
      },
      "execution_count": null,
      "outputs": []
    },
    {
      "cell_type": "code",
      "source": [
        "def build_mlp(hidden_layers, activation_fn):\n",
        "    model = tf.keras.Sequential()\n",
        "\n",
        "    # Input layer\n",
        "    model.add(tf.keras.layers.InputLayer(input_shape=(4,)))\n",
        "\n",
        "    # Hidden layers\n",
        "    for units in hidden_layers:\n",
        "        model.add(tf.keras.layers.Dense(units, activation=activation_fn))\n",
        "\n",
        "    # Output layer (3 classes, softmax activation)\n",
        "    model.add(tf.keras.layers.Dense(3, activation='softmax'))\n",
        "\n",
        "    # Compile model\n",
        "    model.compile(\n",
        "        optimizer='adam',\n",
        "        loss='categorical_crossentropy',\n",
        "        metrics=['accuracy']\n",
        "    )\n",
        "\n",
        "    return model"
      ],
      "metadata": {
        "id": "FHAsFZd7t2pG"
      },
      "execution_count": null,
      "outputs": []
    },
    {
      "cell_type": "code",
      "source": [
        "def train_and_evaluate(hidden_layers, activation_fn, epochs=100):\n",
        "    model = build_mlp(hidden_layers, activation_fn)\n",
        "\n",
        "    history = model.fit(X_train, y_train, epochs=epochs, verbose=0, validation_data=(X_test, y_test))\n",
        "\n",
        "    final_acc = history.history['val_accuracy'][-1]\n",
        "    final_loss = history.history['val_loss'][-1]\n",
        "\n",
        "    print(f\"Hidden Layers: {hidden_layers}, Activation: {activation_fn}, Accuracy: {final_acc:.4f}, Loss: {final_loss:.4f}\")"
      ],
      "metadata": {
        "id": "2vyHIoFrt8b9"
      },
      "execution_count": null,
      "outputs": []
    },
    {
      "cell_type": "code",
      "source": [
        "configs = [\n",
        "    ([8], 'relu'),           # 1 hidden layer, ReLU\n",
        "    ([16, 8], 'relu'),       # 2 hidden layers, ReLU\n",
        "    ([16, 8], 'tanh'),       # 2 hidden layers, Tanh\n",
        "    ([32, 16, 8], 'relu'),   # 3 hidden layers, ReLU\n",
        "]\n",
        "\n",
        "for hidden_layers, activation_fn in configs:\n",
        "    train_and_evaluate(hidden_layers, activation_fn)"
      ],
      "metadata": {
        "colab": {
          "base_uri": "https://localhost:8080/"
        },
        "id": "5REgeyvBuSYj",
        "outputId": "32b0548b-ca18-4773-8141-0d93f550aee6"
      },
      "execution_count": null,
      "outputs": [
        {
          "output_type": "stream",
          "name": "stderr",
          "text": [
            "/usr/local/lib/python3.12/dist-packages/keras/src/layers/core/input_layer.py:27: UserWarning: Argument `input_shape` is deprecated. Use `shape` instead.\n",
            "  warnings.warn(\n"
          ]
        },
        {
          "output_type": "stream",
          "name": "stdout",
          "text": [
            "Hidden Layers: [8], Activation: relu, Accuracy: 0.8667, Loss: 0.3369\n",
            "Hidden Layers: [16, 8], Activation: relu, Accuracy: 1.0000, Loss: 0.1409\n",
            "Hidden Layers: [16, 8], Activation: tanh, Accuracy: 1.0000, Loss: 0.1332\n",
            "Hidden Layers: [32, 16, 8], Activation: relu, Accuracy: 1.0000, Loss: 0.0523\n"
          ]
        }
      ]
    },
    {
      "cell_type": "code",
      "source": [],
      "metadata": {
        "id": "U1EjGV1_uVs8"
      },
      "execution_count": null,
      "outputs": []
    }
  ]
}