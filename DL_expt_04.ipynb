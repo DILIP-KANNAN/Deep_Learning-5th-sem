{
  "cells": [
    {
      "cell_type": "code",
      "execution_count": null,
      "metadata": {
        "colab": {
          "base_uri": "https://localhost:8080/"
        },
        "id": "23b8rnNDwgJJ",
        "outputId": "5083eb81-ee46-4513-f2cd-a9203d0d57c3"
      },
      "outputs": [
        {
          "name": "stdout",
          "output_type": "stream",
          "text": [
            "Downloading data from https://www.cs.toronto.edu/~kriz/cifar-10-python.tar.gz\n",
            "\u001b[1m170498071/170498071\u001b[0m \u001b[32m━━━━━━━━━━━━━━━━━━━━\u001b[0m\u001b[37m\u001b[0m \u001b[1m79s\u001b[0m 0us/step\n"
          ]
        }
      ],
      "source": [
        "import tensorflow as tf\n",
        "import numpy as np\n",
        "import matplotlib.pyplot as plt\n",
        "\n",
        "# Load CIFAR-10 dataset\n",
        "(x_train, y_train), (x_test, y_test) = tf.keras.datasets.cifar10.load_data()\n",
        "\n",
        "# Normalize pixel values to [0, 1]\n",
        "x_train, x_test = x_train / 255.0, x_test / 255.0\n",
        "\n",
        "# One-hot encode labels\n",
        "y_train = tf.keras.utils.to_categorical(y_train, 10)\n",
        "y_test = tf.keras.utils.to_categorical(y_test, 10)\n"
      ]
    },
    {
      "cell_type": "code",
      "execution_count": null,
      "metadata": {
        "id": "umOWKpEgwjNU"
      },
      "outputs": [],
      "source": [
        "def build_cnn_from_scratch():\n",
        "    model = tf.keras.Sequential([\n",
        "        # Conv Layer 1\n",
        "        tf.keras.layers.Conv2D(32, (3, 3), activation='relu', input_shape=(32, 32, 3)),\n",
        "        tf.keras.layers.MaxPooling2D((2, 2)),\n",
        "\n",
        "        # Conv Layer 2\n",
        "        tf.keras.layers.Conv2D(64, (3, 3), activation='relu'),\n",
        "        tf.keras.layers.MaxPooling2D((2, 2)),\n",
        "\n",
        "        # Conv Layer 3\n",
        "        tf.keras.layers.Conv2D(128, (3, 3), activation='relu'),\n",
        "        tf.keras.layers.MaxPooling2D((2, 2)),\n",
        "\n",
        "        # Flatten and Dense Layers\n",
        "        tf.keras.layers.Flatten(),\n",
        "        tf.keras.layers.Dense(128, activation='relu'),\n",
        "        tf.keras.layers.Dense(10, activation='softmax')  # Output: 10 classes\n",
        "    ])\n",
        "\n",
        "    return model\n"
      ]
    },
    {
      "cell_type": "code",
      "execution_count": null,
      "metadata": {
        "colab": {
          "background_save": true,
          "base_uri": "https://localhost:8080/"
        },
        "id": "r7DR3FHbwmsk",
        "outputId": "51bba021-4af1-41fc-bcb1-78ec51643e71"
      },
      "outputs": [
        {
          "name": "stderr",
          "output_type": "stream",
          "text": [
            "/usr/local/lib/python3.12/dist-packages/keras/src/layers/convolutional/base_conv.py:113: UserWarning: Do not pass an `input_shape`/`input_dim` argument to a layer. When using Sequential models, prefer using an `Input(shape)` object as the first layer in the model instead.\n",
            "  super().__init__(activity_regularizer=activity_regularizer, **kwargs)\n"
          ]
        },
        {
          "name": "stdout",
          "output_type": "stream",
          "text": [
            "Epoch 1/15\n",
            "782/782 - 72s - 92ms/step - accuracy: 0.4239 - loss: 1.5677 - val_accuracy: 0.4780 - val_loss: 1.4243\n",
            "Epoch 2/15\n",
            "782/782 - 80s - 102ms/step - accuracy: 0.5737 - loss: 1.1964 - val_accuracy: 0.6063 - val_loss: 1.1098\n",
            "Epoch 3/15\n",
            "782/782 - 84s - 107ms/step - accuracy: 0.6417 - loss: 1.0254 - val_accuracy: 0.6539 - val_loss: 0.9908\n",
            "Epoch 4/15\n",
            "782/782 - 81s - 104ms/step - accuracy: 0.6794 - loss: 0.9199 - val_accuracy: 0.6779 - val_loss: 0.9292\n",
            "Epoch 5/15\n",
            "782/782 - 82s - 104ms/step - accuracy: 0.7096 - loss: 0.8339 - val_accuracy: 0.6862 - val_loss: 0.9235\n",
            "Epoch 6/15\n",
            "782/782 - 71s - 90ms/step - accuracy: 0.7300 - loss: 0.7719 - val_accuracy: 0.7048 - val_loss: 0.8635\n",
            "Epoch 7/15\n",
            "782/782 - 80s - 102ms/step - accuracy: 0.7520 - loss: 0.7121 - val_accuracy: 0.7053 - val_loss: 0.8611\n",
            "Epoch 8/15\n",
            "782/782 - 79s - 101ms/step - accuracy: 0.7678 - loss: 0.6631 - val_accuracy: 0.7089 - val_loss: 0.8538\n",
            "Epoch 9/15\n",
            "782/782 - 84s - 107ms/step - accuracy: 0.7865 - loss: 0.6152 - val_accuracy: 0.7198 - val_loss: 0.8403\n",
            "Epoch 10/15\n",
            "782/782 - 82s - 105ms/step - accuracy: 0.8004 - loss: 0.5707 - val_accuracy: 0.7160 - val_loss: 0.8491\n",
            "Epoch 11/15\n",
            "782/782 - 70s - 89ms/step - accuracy: 0.8148 - loss: 0.5320 - val_accuracy: 0.7033 - val_loss: 0.9590\n",
            "Epoch 12/15\n",
            "782/782 - 81s - 104ms/step - accuracy: 0.8270 - loss: 0.4941 - val_accuracy: 0.7129 - val_loss: 0.8784\n",
            "Epoch 13/15\n",
            "782/782 - 82s - 105ms/step - accuracy: 0.8378 - loss: 0.4594 - val_accuracy: 0.7197 - val_loss: 0.8801\n",
            "Epoch 14/15\n",
            "782/782 - 82s - 104ms/step - accuracy: 0.8479 - loss: 0.4277 - val_accuracy: 0.7247 - val_loss: 0.8867\n",
            "Epoch 15/15\n",
            "782/782 - 81s - 104ms/step - accuracy: 0.8640 - loss: 0.3893 - val_accuracy: 0.7214 - val_loss: 0.9651\n"
          ]
        }
      ],
      "source": [
        "model = build_cnn_from_scratch()\n",
        "\n",
        "model.compile(\n",
        "    optimizer='adam',\n",
        "    loss='categorical_crossentropy',\n",
        "    metrics=['accuracy']\n",
        ")\n",
        "\n",
        "history = model.fit(\n",
        "    x_train, y_train,\n",
        "    epochs=15,\n",
        "    batch_size=64,\n",
        "    validation_data=(x_test, y_test),\n",
        "    verbose=2\n",
        ")\n"
      ]
    },
    {
      "cell_type": "code",
      "execution_count": null,
      "metadata": {
        "colab": {
          "background_save": true
        },
        "id": "VY8WrlCVwpnU",
        "outputId": "0de7dd72-7ed3-48dd-e3a1-7ae7d62d7295"
      },
      "outputs": [
        {
          "name": "stdout",
          "output_type": "stream",
          "text": [
            "313/313 - 4s - 14ms/step - accuracy: 0.7214 - loss: 0.9651\n",
            "\n",
            "Test Accuracy: 0.7214\n",
            "Test Loss: 0.9651\n"
          ]
        }
      ],
      "source": [
        "test_loss, test_accuracy = model.evaluate(x_test, y_test, verbose=2)\n",
        "print(f\"\\nTest Accuracy: {test_accuracy:.4f}\")\n",
        "print(f\"Test Loss: {test_loss:.4f}\")\n"
      ]
    },
    {
      "cell_type": "code",
      "execution_count": null,
      "metadata": {
        "id": "8igfHX0AwtjN",
        "outputId": "8ed046a8-5092-4d15-eb97-54d3ce06ecc0",
        "colab": {
          "base_uri": "https://localhost:8080/",
          "height": 379
        }
      },
      "outputs": [
        {
          "output_type": "stream",
          "name": "stdout",
          "text": [
            "Filters shape: (3, 3, 3, 32)\n"
          ]
        },
        {
          "output_type": "display_data",
          "data": {
            "text/plain": [
              "<Figure size 1500x500 with 6 Axes>"
            ],
            "image/png": "[encoded data removed]"
          },
          "metadata": {}
        }
      ],
      "source": [
        "# Extract the first Conv layer\n",
        "conv_layer = model.layers[0]\n",
        "filters, biases = conv_layer.get_weights()\n",
        "\n",
        "print(f\"Filters shape: {filters.shape}\")  # (3, 3, 3, 32) → 32 filters of size 3x3x3\n",
        "\n",
        "# Plot the first 6 filters\n",
        "fig, axes = plt.subplots(1, 6, figsize=(15, 5))\n",
        "\n",
        "for i in range(6):\n",
        "    # Normalize filter values to [0, 1] for display\n",
        "    f_min, f_max = filters[:, :, :, i].min(), filters[:, :, :, i].max()\n",
        "    filter_img = (filters[:, :, :, i] - f_min) / (f_max - f_min)\n",
        "\n",
        "    axes[i].imshow(filter_img)\n",
        "    axes[i].axis('off')\n",
        "    axes[i].set_title(f'Filter {i+1}')\n",
        "\n",
        "plt.suptitle('Learned Filters from First Conv Layer')\n",
        "plt.show()"
      ]
    }
  ],
  "metadata": {
    "colab": {
      "provenance": []
    },
    "kernelspec": {
      "display_name": "Python 3",
      "name": "python3"
    },
    "language_info": {
      "name": "python"
    }
  },
  "nbformat": 4,
  "nbformat_minor": 0
}