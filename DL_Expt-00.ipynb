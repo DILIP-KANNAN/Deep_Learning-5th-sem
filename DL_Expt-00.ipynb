{
  "nbformat": 4,
  "nbformat_minor": 0,
  "metadata": {
    "colab": {
      "provenance": []
    },
    "kernelspec": {
      "name": "python3",
      "display_name": "Python 3"
    },
    "language_info": {
      "name": "python"
    }
  },
  "cells": [
    {
      "cell_type": "markdown",
      "source": [
        "SIMULATION OF AND & OR GATE USING PERCEPTRON"
      ],
      "metadata": {
        "id": "tC4huSgoQz5T"
      }
    },
    {
      "cell_type": "code",
      "execution_count": null,
      "metadata": {
        "colab": {
          "base_uri": "https://localhost:8080/"
        },
        "id": "Xn-y_YTCQK2i",
        "outputId": "52f6dfc4-7277-4271-9bc5-ad889410f083"
      },
      "outputs": [
        {
          "output_type": "stream",
          "name": "stdout",
          "text": [
            "Testing the trained perceptron:\n",
            "Input: [0 0], Predicted output: 0\n",
            "Input: [0 1], Predicted output: 0\n",
            "Input: [1 0], Predicted output: 0\n",
            "Input: [1 1], Predicted output: 1\n"
          ]
        }
      ],
      "source": [
        "import numpy as np\n",
        "\n",
        "class SimplePerceptron:\n",
        "    def __init__(self, num_inputs, learning_rate=0.1):\n",
        "        # Initialize weights and bias\n",
        "        self.weights = np.random.rand(num_inputs)  # Random weights\n",
        "        self.bias = np.random.rand()               # Random bias\n",
        "        self.learning_rate = learning_rate         # Learning rate\n",
        "\n",
        "    def activate(self, inputs):\n",
        "        # Calculate the weighted sum and apply the step function\n",
        "        weighted_sum = np.dot(inputs, self.weights) + self.bias\n",
        "        return 1 if weighted_sum >= 0 else 0\n",
        "\n",
        "    def train(self, training_data, target_outputs, num_epochs):\n",
        "        # Train the perceptron\n",
        "        for epoch in range(num_epochs):\n",
        "            for inputs, target in zip(training_data, target_outputs):\n",
        "                output = self.activate(inputs)         # Get the perceptron's output\n",
        "                error = target - output                # Calculate error\n",
        "\n",
        "                # Update weights and bias\n",
        "                self.weights += self.learning_rate * error * inputs\n",
        "                self.bias += self.learning_rate * error\n",
        "\n",
        "# Simulating AND Gate\n",
        "if __name__ == \"__main__\":\n",
        "    # Define a simple dataset for the AND logic gate\n",
        "    training_data = np.array([[0, 0], [0, 1], [1, 0], [1, 1]])\n",
        "    target_outputs = np.array([0, 0, 0, 1])  # AND gate outputs\n",
        "\n",
        "    # Create a SimplePerceptron instance\n",
        "    perceptron = SimplePerceptron(num_inputs=2, learning_rate=0.1)\n",
        "\n",
        "    # Train the perceptron\n",
        "    perceptron.train(training_data, target_outputs, num_epochs=10)\n",
        "\n",
        "    # Test the perceptron\n",
        "    print(\"Testing the trained perceptron:\")\n",
        "    for inputs in training_data:\n",
        "        prediction = perceptron.activate(inputs)\n",
        "        print(f\"Input: {inputs}, Predicted output: {prediction}\")\n",
        "\n"
      ]
    },
    {
      "cell_type": "code",
      "source": [
        "import numpy as np\n",
        "\n",
        "class SimplePerceptron:\n",
        "    def __init__(self, num_inputs, learning_rate=0.1):\n",
        "        # Initialize weights and bias\n",
        "        self.weights = np.random.rand(num_inputs)  # Random weights\n",
        "        self.bias = np.random.rand()               # Random bias\n",
        "        self.learning_rate = learning_rate         # Learning rate\n",
        "\n",
        "    def activate(self, inputs):\n",
        "        # Calculate the weighted sum and apply the step function\n",
        "        weighted_sum = np.dot(inputs, self.weights) + self.bias\n",
        "        return 1 if weighted_sum >= 0 else 0\n",
        "\n",
        "    def train(self, training_data, target_outputs, num_epochs):\n",
        "        # Train the perceptron\n",
        "        for epoch in range(num_epochs):\n",
        "            for inputs, target in zip(training_data, target_outputs):\n",
        "                output = self.activate(inputs)         # Get the perceptron's output\n",
        "                error = target - output                # Calculate error\n",
        "\n",
        "                # Update weights and bias\n",
        "                self.weights += self.learning_rate * error * inputs\n",
        "                self.bias += self.learning_rate * error\n",
        "\n",
        "# Simulating OR Gate\n",
        "if __name__ == \"__main__\":\n",
        "    # Define a simple dataset for the OR logic gate\n",
        "    training_data = np.array([[0, 0], [0, 1], [1, 0], [1, 1]])\n",
        "    target_outputs = np.array([0, 1, 1, 1])  # OR gate outputs\n",
        "\n",
        "    # Create a SimplePerceptron instance\n",
        "    perceptron = SimplePerceptron(num_inputs=2, learning_rate=0.1)\n",
        "\n",
        "    # Train the perceptron\n",
        "    perceptron.train(training_data, target_outputs, num_epochs=10)\n",
        "\n",
        "    # Test the perceptron\n",
        "    print(\"Testing the trained perceptron:\")\n",
        "    for inputs in training_data:\n",
        "        prediction = perceptron.activate(inputs)\n",
        "        print(f\"Input: {inputs}, Predicted output: {prediction}\")"
      ],
      "metadata": {
        "colab": {
          "base_uri": "https://localhost:8080/"
        },
        "id": "BdZy_xx_Q7oc",
        "outputId": "1911442a-0b61-4335-fbeb-0261a1698df8"
      },
      "execution_count": null,
      "outputs": [
        {
          "output_type": "stream",
          "name": "stdout",
          "text": [
            "Testing the trained perceptron:\n",
            "Input: [0 0], Predicted output: 0\n",
            "Input: [0 1], Predicted output: 1\n",
            "Input: [1 0], Predicted output: 1\n",
            "Input: [1 1], Predicted output: 1\n"
          ]
        }
      ]
    }
  ]
}